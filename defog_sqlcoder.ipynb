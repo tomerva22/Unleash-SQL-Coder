{
  "nbformat": 4,
  "nbformat_minor": 0,
  "metadata": {
    "colab": {
      "provenance": [],
      "machine_shape": "hm",
      "gpuType": "A100"
    },
    "kernelspec": {
      "name": "python3",
      "display_name": "Python 3"
    },
    "language_info": {
      "name": "python"
    },
    "accelerator": "GPU",
    "widgets": {
      "application/vnd.jupyter.widget-state+json": {
        "5cff0e1b26564af0835f6fad828bffd3": {
          "model_module": "@jupyter-widgets/controls",
          "model_name": "HBoxModel",
          "model_module_version": "1.5.0",
          "state": {
            "_dom_classes": [],
            "_model_module": "@jupyter-widgets/controls",
            "_model_module_version": "1.5.0",
            "_model_name": "HBoxModel",
            "_view_count": null,
            "_view_module": "@jupyter-widgets/controls",
            "_view_module_version": "1.5.0",
            "_view_name": "HBoxView",
            "box_style": "",
            "children": [
              "IPY_MODEL_a50a85ed4fc84e4a9deff28aa58c73e2",
              "IPY_MODEL_8efc9938ad0d4102b71cb800db52de1c",
              "IPY_MODEL_916b80c2596540488b3fe2e4a6e9283b"
            ],
            "layout": "IPY_MODEL_565316f5c3ca49ab97215efe7a8a9d1a"
          }
        },
        "a50a85ed4fc84e4a9deff28aa58c73e2": {
          "model_module": "@jupyter-widgets/controls",
          "model_name": "HTMLModel",
          "model_module_version": "1.5.0",
          "state": {
            "_dom_classes": [],
            "_model_module": "@jupyter-widgets/controls",
            "_model_module_version": "1.5.0",
            "_model_name": "HTMLModel",
            "_view_count": null,
            "_view_module": "@jupyter-widgets/controls",
            "_view_module_version": "1.5.0",
            "_view_name": "HTMLView",
            "description": "",
            "description_tooltip": null,
            "layout": "IPY_MODEL_263497f60a534703af01d60eab266105",
            "placeholder": "​",
            "style": "IPY_MODEL_9e6ba691258f4e43932fb983621f6fac",
            "value": "Loading checkpoint shards: 100%"
          }
        },
        "8efc9938ad0d4102b71cb800db52de1c": {
          "model_module": "@jupyter-widgets/controls",
          "model_name": "FloatProgressModel",
          "model_module_version": "1.5.0",
          "state": {
            "_dom_classes": [],
            "_model_module": "@jupyter-widgets/controls",
            "_model_module_version": "1.5.0",
            "_model_name": "FloatProgressModel",
            "_view_count": null,
            "_view_module": "@jupyter-widgets/controls",
            "_view_module_version": "1.5.0",
            "_view_name": "ProgressView",
            "bar_style": "success",
            "description": "",
            "description_tooltip": null,
            "layout": "IPY_MODEL_1079912b8d7a4743a49691c4977fc112",
            "max": 4,
            "min": 0,
            "orientation": "horizontal",
            "style": "IPY_MODEL_d9426dac1c48492aa1f258601eda6132",
            "value": 4
          }
        },
        "916b80c2596540488b3fe2e4a6e9283b": {
          "model_module": "@jupyter-widgets/controls",
          "model_name": "HTMLModel",
          "model_module_version": "1.5.0",
          "state": {
            "_dom_classes": [],
            "_model_module": "@jupyter-widgets/controls",
            "_model_module_version": "1.5.0",
            "_model_name": "HTMLModel",
            "_view_count": null,
            "_view_module": "@jupyter-widgets/controls",
            "_view_module_version": "1.5.0",
            "_view_name": "HTMLView",
            "description": "",
            "description_tooltip": null,
            "layout": "IPY_MODEL_465fe7148c2f4e6c89a281b84ef3cc26",
            "placeholder": "​",
            "style": "IPY_MODEL_51562b1a32f6423b9cef115adece7234",
            "value": " 4/4 [00:25&lt;00:00,  5.37s/it]"
          }
        },
        "565316f5c3ca49ab97215efe7a8a9d1a": {
          "model_module": "@jupyter-widgets/base",
          "model_name": "LayoutModel",
          "model_module_version": "1.2.0",
          "state": {
            "_model_module": "@jupyter-widgets/base",
            "_model_module_version": "1.2.0",
            "_model_name": "LayoutModel",
            "_view_count": null,
            "_view_module": "@jupyter-widgets/base",
            "_view_module_version": "1.2.0",
            "_view_name": "LayoutView",
            "align_content": null,
            "align_items": null,
            "align_self": null,
            "border": null,
            "bottom": null,
            "display": null,
            "flex": null,
            "flex_flow": null,
            "grid_area": null,
            "grid_auto_columns": null,
            "grid_auto_flow": null,
            "grid_auto_rows": null,
            "grid_column": null,
            "grid_gap": null,
            "grid_row": null,
            "grid_template_areas": null,
            "grid_template_columns": null,
            "grid_template_rows": null,
            "height": null,
            "justify_content": null,
            "justify_items": null,
            "left": null,
            "margin": null,
            "max_height": null,
            "max_width": null,
            "min_height": null,
            "min_width": null,
            "object_fit": null,
            "object_position": null,
            "order": null,
            "overflow": null,
            "overflow_x": null,
            "overflow_y": null,
            "padding": null,
            "right": null,
            "top": null,
            "visibility": null,
            "width": null
          }
        },
        "263497f60a534703af01d60eab266105": {
          "model_module": "@jupyter-widgets/base",
          "model_name": "LayoutModel",
          "model_module_version": "1.2.0",
          "state": {
            "_model_module": "@jupyter-widgets/base",
            "_model_module_version": "1.2.0",
            "_model_name": "LayoutModel",
            "_view_count": null,
            "_view_module": "@jupyter-widgets/base",
            "_view_module_version": "1.2.0",
            "_view_name": "LayoutView",
            "align_content": null,
            "align_items": null,
            "align_self": null,
            "border": null,
            "bottom": null,
            "display": null,
            "flex": null,
            "flex_flow": null,
            "grid_area": null,
            "grid_auto_columns": null,
            "grid_auto_flow": null,
            "grid_auto_rows": null,
            "grid_column": null,
            "grid_gap": null,
            "grid_row": null,
            "grid_template_areas": null,
            "grid_template_columns": null,
            "grid_template_rows": null,
            "height": null,
            "justify_content": null,
            "justify_items": null,
            "left": null,
            "margin": null,
            "max_height": null,
            "max_width": null,
            "min_height": null,
            "min_width": null,
            "object_fit": null,
            "object_position": null,
            "order": null,
            "overflow": null,
            "overflow_x": null,
            "overflow_y": null,
            "padding": null,
            "right": null,
            "top": null,
            "visibility": null,
            "width": null
          }
        },
        "9e6ba691258f4e43932fb983621f6fac": {
          "model_module": "@jupyter-widgets/controls",
          "model_name": "DescriptionStyleModel",
          "model_module_version": "1.5.0",
          "state": {
            "_model_module": "@jupyter-widgets/controls",
            "_model_module_version": "1.5.0",
            "_model_name": "DescriptionStyleModel",
            "_view_count": null,
            "_view_module": "@jupyter-widgets/base",
            "_view_module_version": "1.2.0",
            "_view_name": "StyleView",
            "description_width": ""
          }
        },
        "1079912b8d7a4743a49691c4977fc112": {
          "model_module": "@jupyter-widgets/base",
          "model_name": "LayoutModel",
          "model_module_version": "1.2.0",
          "state": {
            "_model_module": "@jupyter-widgets/base",
            "_model_module_version": "1.2.0",
            "_model_name": "LayoutModel",
            "_view_count": null,
            "_view_module": "@jupyter-widgets/base",
            "_view_module_version": "1.2.0",
            "_view_name": "LayoutView",
            "align_content": null,
            "align_items": null,
            "align_self": null,
            "border": null,
            "bottom": null,
            "display": null,
            "flex": null,
            "flex_flow": null,
            "grid_area": null,
            "grid_auto_columns": null,
            "grid_auto_flow": null,
            "grid_auto_rows": null,
            "grid_column": null,
            "grid_gap": null,
            "grid_row": null,
            "grid_template_areas": null,
            "grid_template_columns": null,
            "grid_template_rows": null,
            "height": null,
            "justify_content": null,
            "justify_items": null,
            "left": null,
            "margin": null,
            "max_height": null,
            "max_width": null,
            "min_height": null,
            "min_width": null,
            "object_fit": null,
            "object_position": null,
            "order": null,
            "overflow": null,
            "overflow_x": null,
            "overflow_y": null,
            "padding": null,
            "right": null,
            "top": null,
            "visibility": null,
            "width": null
          }
        },
        "d9426dac1c48492aa1f258601eda6132": {
          "model_module": "@jupyter-widgets/controls",
          "model_name": "ProgressStyleModel",
          "model_module_version": "1.5.0",
          "state": {
            "_model_module": "@jupyter-widgets/controls",
            "_model_module_version": "1.5.0",
            "_model_name": "ProgressStyleModel",
            "_view_count": null,
            "_view_module": "@jupyter-widgets/base",
            "_view_module_version": "1.2.0",
            "_view_name": "StyleView",
            "bar_color": null,
            "description_width": ""
          }
        },
        "465fe7148c2f4e6c89a281b84ef3cc26": {
          "model_module": "@jupyter-widgets/base",
          "model_name": "LayoutModel",
          "model_module_version": "1.2.0",
          "state": {
            "_model_module": "@jupyter-widgets/base",
            "_model_module_version": "1.2.0",
            "_model_name": "LayoutModel",
            "_view_count": null,
            "_view_module": "@jupyter-widgets/base",
            "_view_module_version": "1.2.0",
            "_view_name": "LayoutView",
            "align_content": null,
            "align_items": null,
            "align_self": null,
            "border": null,
            "bottom": null,
            "display": null,
            "flex": null,
            "flex_flow": null,
            "grid_area": null,
            "grid_auto_columns": null,
            "grid_auto_flow": null,
            "grid_auto_rows": null,
            "grid_column": null,
            "grid_gap": null,
            "grid_row": null,
            "grid_template_areas": null,
            "grid_template_columns": null,
            "grid_template_rows": null,
            "height": null,
            "justify_content": null,
            "justify_items": null,
            "left": null,
            "margin": null,
            "max_height": null,
            "max_width": null,
            "min_height": null,
            "min_width": null,
            "object_fit": null,
            "object_position": null,
            "order": null,
            "overflow": null,
            "overflow_x": null,
            "overflow_y": null,
            "padding": null,
            "right": null,
            "top": null,
            "visibility": null,
            "width": null
          }
        },
        "51562b1a32f6423b9cef115adece7234": {
          "model_module": "@jupyter-widgets/controls",
          "model_name": "DescriptionStyleModel",
          "model_module_version": "1.5.0",
          "state": {
            "_model_module": "@jupyter-widgets/controls",
            "_model_module_version": "1.5.0",
            "_model_name": "DescriptionStyleModel",
            "_view_count": null,
            "_view_module": "@jupyter-widgets/base",
            "_view_module_version": "1.2.0",
            "_view_name": "StyleView",
            "description_width": ""
          }
        }
      }
    }
  },
  "cells": [
    {
      "cell_type": "code",
      "source": [
        "import sqlite3\n",
        "\n",
        "conn = sqlite3.connect('test_database')\n",
        "c = conn.cursor()"
      ],
      "metadata": {
        "id": "I80Ptb41jGCR"
      },
      "execution_count": 1,
      "outputs": []
    },
    {
      "cell_type": "code",
      "source": [
        "table1 = \"\"\"CREATE TABLE title_ratings(\n",
        "  tconst varchar(256),\n",
        "  averageRating float,\n",
        "  numVotes int,\n",
        "  primary key (tconst)\n",
        ");\"\"\"\n",
        "\n",
        "table2 = \"\"\"CREATE TABLE title_principals(\n",
        "  tconst varchar(256),\n",
        "  ordering int,\n",
        "  nconst varchar(256),\n",
        "  category varchar(256),\n",
        "  job varchar(256),\n",
        "  characters varchar(256),\n",
        "  primary key (tconst, ordering, nconst)\n",
        ");\"\"\"\n",
        "\n",
        "table3 = \"\"\"CREATE TABLE title_episode(\n",
        "  tconst varchar(256),\n",
        "  parentTconst varchar(256),\n",
        "  seasonNumber int,\n",
        "  episodeNumber int,\n",
        "  primary key (tconst)\n",
        ");\"\"\"\n",
        "\n",
        "table4 = \"\"\"CREATE TABLE title_crew(\n",
        "  tconst varchr(256),\n",
        "  directors varchar(1000),\n",
        "  writers varchar(1000),\n",
        "  primary key (tconst)\n",
        ");\"\"\"\n",
        "\n",
        "table5 = \"\"\"CREATE TABLE title_basics(\n",
        "  tconst varchar(256),\n",
        "  titleType varchar(256),\n",
        "  primaryTitle varchar(256),\n",
        "  originalTitle varchar(256),\n",
        "  isAdult BIT,\n",
        "  startYear int,\n",
        "  endYear int,\n",
        "  runtimeMinutes  int,\n",
        "  genres varchar(1000),\n",
        "  primary key (tconst)\n",
        ");\"\"\"\n",
        "\n",
        "table6 = \"\"\"CREATE TABLE title_akas(\n",
        "  titleID VARCHAR(256) not null,\n",
        "  ordering int,\n",
        "  title VARCHAR(256),\n",
        "  region VARCHAR(256),\n",
        "  language VARCHAR(256),\n",
        "  types varchar(256),\n",
        "  attributes varchar(256),\n",
        "  isOriginalTitle BIT,\n",
        "  primary key (titleID, ordering)\n",
        ");\"\"\"\n",
        "\n",
        "\n",
        "table7 = \"\"\"CREATE TABLE name_basics(\n",
        "  nconst varchar(256) NOT NULL,\n",
        "  primaryName varchar(256),\n",
        "  birthYear int,\n",
        "  deathYear int,\n",
        "  primaryProfession varchar(1000),\n",
        "  knownForTitles varchar(1000),\n",
        "  PRIMARY KEY (nconst)\n",
        ");\"\"\""
      ],
      "metadata": {
        "id": "c2FQWPMujcaJ"
      },
      "execution_count": 2,
      "outputs": []
    },
    {
      "cell_type": "code",
      "source": [
        "c.execute(table1)\n",
        "c.execute(table2)\n",
        "c.execute(table3)\n",
        "c.execute(table4)\n",
        "c.execute(table5)\n",
        "c.execute(table6)\n",
        "c.execute(table7)"
      ],
      "metadata": {
        "colab": {
          "base_uri": "https://localhost:8080/"
        },
        "id": "vKAEBlDDjQB6",
        "outputId": "98c4fb77-4c07-4818-8dc8-c33dbb06b9cf"
      },
      "execution_count": 3,
      "outputs": [
        {
          "output_type": "execute_result",
          "data": {
            "text/plain": [
              "<sqlite3.Cursor at 0x7f9312cb9040>"
            ]
          },
          "metadata": {},
          "execution_count": 3
        }
      ]
    },
    {
      "cell_type": "code",
      "source": [
        "import pandas as pd\n",
        "name_basics = pd.read_table(\"/content/drive/MyDrive/Unleash/name.basics.tsv/data.tsv\")\n"
      ],
      "metadata": {
        "id": "4nWPOPhflWgW"
      },
      "execution_count": 4,
      "outputs": []
    },
    {
      "cell_type": "code",
      "source": [
        "c1=0\n",
        "for index, row in name_basics.iterrows():\n",
        "     c1+=1\n",
        "     c.execute(\"INSERT INTO name_basics (nconst, primaryName, birthYear, deathYear, primaryProfession, knownForTitles) values(?,?,?,?,?,?)\", (row.nconst, row.primaryName, row.birthYear, row.deathYear, row.primaryProfession, row.knownForTitles))\n",
        "     if c1 % 100000 == 0:\n",
        "      print(c1)\n",
        "print(c1, \"done\")"
      ],
      "metadata": {
        "colab": {
          "base_uri": "https://localhost:8080/"
        },
        "id": "ClfywGVBoLsu",
        "outputId": "456f4780-b360-469a-9b99-02cc59df15e7"
      },
      "execution_count": 5,
      "outputs": [
        {
          "output_type": "stream",
          "name": "stdout",
          "text": [
            "12951463 done\n"
          ]
        }
      ]
    },
    {
      "cell_type": "code",
      "source": [
        "title_akas = pd.read_table(\"/content/drive/MyDrive/Unleash/title.akas.tsv/data.tsv\", low_memory=False)\n"
      ],
      "metadata": {
        "id": "Ep4OzNDvpUgC"
      },
      "execution_count": 6,
      "outputs": []
    },
    {
      "cell_type": "code",
      "source": [
        "c1=0\n",
        "for index, row in title_akas.iterrows():\n",
        "     c1+=1\n",
        "     c.execute(\"INSERT INTO title_akas (titleId, ordering, title, region, language, types, attributes, isOriginalTitle) values(?,?,?,?,?,?,?,?)\", (row.titleId, row.ordering, row.title, row.region, row.language, row.types, row.attributes, row.isOriginalTitle))\n",
        "     if c1 % 100000 == 0:\n",
        "      print(c1)\n",
        "print(c1, \"done\")"
      ],
      "metadata": {
        "colab": {
          "base_uri": "https://localhost:8080/"
        },
        "id": "yK13mBsupYVU",
        "outputId": "af7d1678-1533-4c14-ab1d-7fcbb371b996"
      },
      "execution_count": 7,
      "outputs": [
        {
          "output_type": "stream",
          "name": "stdout",
          "text": [
            "37560998 done\n"
          ]
        }
      ]
    },
    {
      "cell_type": "code",
      "source": [
        "title_basics = pd.read_table(\"/content/drive/MyDrive/Unleash/title.basics.tsv/data.tsv\")"
      ],
      "metadata": {
        "colab": {
          "base_uri": "https://localhost:8080/"
        },
        "id": "Ta2kTJ8Vp5Ms",
        "outputId": "ef481bc4-cc7f-4e2e-bd6e-e53cbf09f461"
      },
      "execution_count": 8,
      "outputs": [
        {
          "output_type": "stream",
          "name": "stderr",
          "text": [
            "<ipython-input-8-d9fd644fb74a>:1: DtypeWarning: Columns (4) have mixed types. Specify dtype option on import or set low_memory=False.\n",
            "  title_basics = pd.read_table(\"/content/drive/MyDrive/Unleash/title.basics.tsv/data.tsv\")\n"
          ]
        }
      ]
    },
    {
      "cell_type": "code",
      "source": [
        "c1=0\n",
        "for index, row in title_basics.iterrows():\n",
        "     c1+=1\n",
        "     c.execute(\"INSERT INTO title_basics (tconst, titleType, primaryTitle, originalTitle, isAdult, startYear, endYear, runtimeMinutes, genres) values(?,?,?,?,?,?,?,?,?)\", (row.tconst, row.titleType, row.primaryTitle, row.originalTitle, row.isAdult, row.startYear, row.endYear, row.runtimeMinutes, row.genres))\n",
        "     if c1 % 100000 == 0:\n",
        "      print(c1)\n",
        "print(c1, \"done\")"
      ],
      "metadata": {
        "colab": {
          "base_uri": "https://localhost:8080/"
        },
        "id": "3ULzuzZSp7xo",
        "outputId": "e058db83-7688-4e77-c4ad-ce14b90bdbe3"
      },
      "execution_count": 9,
      "outputs": [
        {
          "output_type": "stream",
          "name": "stdout",
          "text": [
            "10258581 done\n"
          ]
        }
      ]
    },
    {
      "cell_type": "code",
      "source": [
        "title_crew = pd.read_table(\"/content/drive/MyDrive/Unleash/title.crew.tsv/data.tsv\")"
      ],
      "metadata": {
        "id": "NBRuAcDJqk4G"
      },
      "execution_count": 10,
      "outputs": []
    },
    {
      "cell_type": "code",
      "source": [
        "c1=0\n",
        "for index, row in title_crew.iterrows():\n",
        "     c1+=1\n",
        "     c.execute(\"INSERT INTO title_crew (tconst, directors, writers) values(?,?,?)\", (row.tconst, row.directors, row.writers))\n",
        "     if c1 % 100000 == 0:\n",
        "      print(c1)\n",
        "print(c1, \"done\")"
      ],
      "metadata": {
        "colab": {
          "base_uri": "https://localhost:8080/"
        },
        "id": "Q41fbxOUqlg-",
        "outputId": "472e0dfd-da92-426c-ca59-be20bf4e7b4c"
      },
      "execution_count": 11,
      "outputs": [
        {
          "output_type": "stream",
          "name": "stdout",
          "text": [
            "10258581 done\n"
          ]
        }
      ]
    },
    {
      "cell_type": "code",
      "source": [
        "title_episode = pd.read_table(\"/content/drive/MyDrive/Unleash/title.episode.tsv/data.tsv\")\n"
      ],
      "metadata": {
        "id": "-2SSEd1Tv0Hb"
      },
      "execution_count": 12,
      "outputs": []
    },
    {
      "cell_type": "code",
      "source": [
        "title_episode.head()"
      ],
      "metadata": {
        "colab": {
          "base_uri": "https://localhost:8080/",
          "height": 206
        },
        "id": "WUn5eTMNTca1",
        "outputId": "bca14a7a-02ad-4114-a725-880ce23d6f43"
      },
      "execution_count": 13,
      "outputs": [
        {
          "output_type": "execute_result",
          "data": {
            "text/plain": [
              "      tconst parentTconst seasonNumber episodeNumber\n",
              "0  tt0041951    tt0041038            1             9\n",
              "1  tt0042816    tt0989125            1            17\n",
              "2  tt0042889    tt0989125           \\N            \\N\n",
              "3  tt0043426    tt0040051            3            42\n",
              "4  tt0043631    tt0989125            2            16"
            ],
            "text/html": [
              "\n",
              "  <div id=\"df-85d4a31d-1fb0-4671-b25e-b5b4bd8d2ea6\" class=\"colab-df-container\">\n",
              "    <div>\n",
              "<style scoped>\n",
              "    .dataframe tbody tr th:only-of-type {\n",
              "        vertical-align: middle;\n",
              "    }\n",
              "\n",
              "    .dataframe tbody tr th {\n",
              "        vertical-align: top;\n",
              "    }\n",
              "\n",
              "    .dataframe thead th {\n",
              "        text-align: right;\n",
              "    }\n",
              "</style>\n",
              "<table border=\"1\" class=\"dataframe\">\n",
              "  <thead>\n",
              "    <tr style=\"text-align: right;\">\n",
              "      <th></th>\n",
              "      <th>tconst</th>\n",
              "      <th>parentTconst</th>\n",
              "      <th>seasonNumber</th>\n",
              "      <th>episodeNumber</th>\n",
              "    </tr>\n",
              "  </thead>\n",
              "  <tbody>\n",
              "    <tr>\n",
              "      <th>0</th>\n",
              "      <td>tt0041951</td>\n",
              "      <td>tt0041038</td>\n",
              "      <td>1</td>\n",
              "      <td>9</td>\n",
              "    </tr>\n",
              "    <tr>\n",
              "      <th>1</th>\n",
              "      <td>tt0042816</td>\n",
              "      <td>tt0989125</td>\n",
              "      <td>1</td>\n",
              "      <td>17</td>\n",
              "    </tr>\n",
              "    <tr>\n",
              "      <th>2</th>\n",
              "      <td>tt0042889</td>\n",
              "      <td>tt0989125</td>\n",
              "      <td>\\N</td>\n",
              "      <td>\\N</td>\n",
              "    </tr>\n",
              "    <tr>\n",
              "      <th>3</th>\n",
              "      <td>tt0043426</td>\n",
              "      <td>tt0040051</td>\n",
              "      <td>3</td>\n",
              "      <td>42</td>\n",
              "    </tr>\n",
              "    <tr>\n",
              "      <th>4</th>\n",
              "      <td>tt0043631</td>\n",
              "      <td>tt0989125</td>\n",
              "      <td>2</td>\n",
              "      <td>16</td>\n",
              "    </tr>\n",
              "  </tbody>\n",
              "</table>\n",
              "</div>\n",
              "    <div class=\"colab-df-buttons\">\n",
              "\n",
              "  <div class=\"colab-df-container\">\n",
              "    <button class=\"colab-df-convert\" onclick=\"convertToInteractive('df-85d4a31d-1fb0-4671-b25e-b5b4bd8d2ea6')\"\n",
              "            title=\"Convert this dataframe to an interactive table.\"\n",
              "            style=\"display:none;\">\n",
              "\n",
              "  <svg xmlns=\"http://www.w3.org/2000/svg\" height=\"24px\" viewBox=\"0 -960 960 960\">\n",
              "    <path d=\"M120-120v-720h720v720H120Zm60-500h600v-160H180v160Zm220 220h160v-160H400v160Zm0 220h160v-160H400v160ZM180-400h160v-160H180v160Zm440 0h160v-160H620v160ZM180-180h160v-160H180v160Zm440 0h160v-160H620v160Z\"/>\n",
              "  </svg>\n",
              "    </button>\n",
              "\n",
              "  <style>\n",
              "    .colab-df-container {\n",
              "      display:flex;\n",
              "      gap: 12px;\n",
              "    }\n",
              "\n",
              "    .colab-df-convert {\n",
              "      background-color: #E8F0FE;\n",
              "      border: none;\n",
              "      border-radius: 50%;\n",
              "      cursor: pointer;\n",
              "      display: none;\n",
              "      fill: #1967D2;\n",
              "      height: 32px;\n",
              "      padding: 0 0 0 0;\n",
              "      width: 32px;\n",
              "    }\n",
              "\n",
              "    .colab-df-convert:hover {\n",
              "      background-color: #E2EBFA;\n",
              "      box-shadow: 0px 1px 2px rgba(60, 64, 67, 0.3), 0px 1px 3px 1px rgba(60, 64, 67, 0.15);\n",
              "      fill: #174EA6;\n",
              "    }\n",
              "\n",
              "    .colab-df-buttons div {\n",
              "      margin-bottom: 4px;\n",
              "    }\n",
              "\n",
              "    [theme=dark] .colab-df-convert {\n",
              "      background-color: #3B4455;\n",
              "      fill: #D2E3FC;\n",
              "    }\n",
              "\n",
              "    [theme=dark] .colab-df-convert:hover {\n",
              "      background-color: #434B5C;\n",
              "      box-shadow: 0px 1px 3px 1px rgba(0, 0, 0, 0.15);\n",
              "      filter: drop-shadow(0px 1px 2px rgba(0, 0, 0, 0.3));\n",
              "      fill: #FFFFFF;\n",
              "    }\n",
              "  </style>\n",
              "\n",
              "    <script>\n",
              "      const buttonEl =\n",
              "        document.querySelector('#df-85d4a31d-1fb0-4671-b25e-b5b4bd8d2ea6 button.colab-df-convert');\n",
              "      buttonEl.style.display =\n",
              "        google.colab.kernel.accessAllowed ? 'block' : 'none';\n",
              "\n",
              "      async function convertToInteractive(key) {\n",
              "        const element = document.querySelector('#df-85d4a31d-1fb0-4671-b25e-b5b4bd8d2ea6');\n",
              "        const dataTable =\n",
              "          await google.colab.kernel.invokeFunction('convertToInteractive',\n",
              "                                                    [key], {});\n",
              "        if (!dataTable) return;\n",
              "\n",
              "        const docLinkHtml = 'Like what you see? Visit the ' +\n",
              "          '<a target=\"_blank\" href=https://colab.research.google.com/notebooks/data_table.ipynb>data table notebook</a>'\n",
              "          + ' to learn more about interactive tables.';\n",
              "        element.innerHTML = '';\n",
              "        dataTable['output_type'] = 'display_data';\n",
              "        await google.colab.output.renderOutput(dataTable, element);\n",
              "        const docLink = document.createElement('div');\n",
              "        docLink.innerHTML = docLinkHtml;\n",
              "        element.appendChild(docLink);\n",
              "      }\n",
              "    </script>\n",
              "  </div>\n",
              "\n",
              "\n",
              "<div id=\"df-57b5394d-7f73-4c3a-b0cc-9d222b20a36d\">\n",
              "  <button class=\"colab-df-quickchart\" onclick=\"quickchart('df-57b5394d-7f73-4c3a-b0cc-9d222b20a36d')\"\n",
              "            title=\"Suggest charts.\"\n",
              "            style=\"display:none;\">\n",
              "\n",
              "<svg xmlns=\"http://www.w3.org/2000/svg\" height=\"24px\"viewBox=\"0 0 24 24\"\n",
              "     width=\"24px\">\n",
              "    <g>\n",
              "        <path d=\"M19 3H5c-1.1 0-2 .9-2 2v14c0 1.1.9 2 2 2h14c1.1 0 2-.9 2-2V5c0-1.1-.9-2-2-2zM9 17H7v-7h2v7zm4 0h-2V7h2v10zm4 0h-2v-4h2v4z\"/>\n",
              "    </g>\n",
              "</svg>\n",
              "  </button>\n",
              "\n",
              "<style>\n",
              "  .colab-df-quickchart {\n",
              "      --bg-color: #E8F0FE;\n",
              "      --fill-color: #1967D2;\n",
              "      --hover-bg-color: #E2EBFA;\n",
              "      --hover-fill-color: #174EA6;\n",
              "      --disabled-fill-color: #AAA;\n",
              "      --disabled-bg-color: #DDD;\n",
              "  }\n",
              "\n",
              "  [theme=dark] .colab-df-quickchart {\n",
              "      --bg-color: #3B4455;\n",
              "      --fill-color: #D2E3FC;\n",
              "      --hover-bg-color: #434B5C;\n",
              "      --hover-fill-color: #FFFFFF;\n",
              "      --disabled-bg-color: #3B4455;\n",
              "      --disabled-fill-color: #666;\n",
              "  }\n",
              "\n",
              "  .colab-df-quickchart {\n",
              "    background-color: var(--bg-color);\n",
              "    border: none;\n",
              "    border-radius: 50%;\n",
              "    cursor: pointer;\n",
              "    display: none;\n",
              "    fill: var(--fill-color);\n",
              "    height: 32px;\n",
              "    padding: 0;\n",
              "    width: 32px;\n",
              "  }\n",
              "\n",
              "  .colab-df-quickchart:hover {\n",
              "    background-color: var(--hover-bg-color);\n",
              "    box-shadow: 0 1px 2px rgba(60, 64, 67, 0.3), 0 1px 3px 1px rgba(60, 64, 67, 0.15);\n",
              "    fill: var(--button-hover-fill-color);\n",
              "  }\n",
              "\n",
              "  .colab-df-quickchart-complete:disabled,\n",
              "  .colab-df-quickchart-complete:disabled:hover {\n",
              "    background-color: var(--disabled-bg-color);\n",
              "    fill: var(--disabled-fill-color);\n",
              "    box-shadow: none;\n",
              "  }\n",
              "\n",
              "  .colab-df-spinner {\n",
              "    border: 2px solid var(--fill-color);\n",
              "    border-color: transparent;\n",
              "    border-bottom-color: var(--fill-color);\n",
              "    animation:\n",
              "      spin 1s steps(1) infinite;\n",
              "  }\n",
              "\n",
              "  @keyframes spin {\n",
              "    0% {\n",
              "      border-color: transparent;\n",
              "      border-bottom-color: var(--fill-color);\n",
              "      border-left-color: var(--fill-color);\n",
              "    }\n",
              "    20% {\n",
              "      border-color: transparent;\n",
              "      border-left-color: var(--fill-color);\n",
              "      border-top-color: var(--fill-color);\n",
              "    }\n",
              "    30% {\n",
              "      border-color: transparent;\n",
              "      border-left-color: var(--fill-color);\n",
              "      border-top-color: var(--fill-color);\n",
              "      border-right-color: var(--fill-color);\n",
              "    }\n",
              "    40% {\n",
              "      border-color: transparent;\n",
              "      border-right-color: var(--fill-color);\n",
              "      border-top-color: var(--fill-color);\n",
              "    }\n",
              "    60% {\n",
              "      border-color: transparent;\n",
              "      border-right-color: var(--fill-color);\n",
              "    }\n",
              "    80% {\n",
              "      border-color: transparent;\n",
              "      border-right-color: var(--fill-color);\n",
              "      border-bottom-color: var(--fill-color);\n",
              "    }\n",
              "    90% {\n",
              "      border-color: transparent;\n",
              "      border-bottom-color: var(--fill-color);\n",
              "    }\n",
              "  }\n",
              "</style>\n",
              "\n",
              "  <script>\n",
              "    async function quickchart(key) {\n",
              "      const quickchartButtonEl =\n",
              "        document.querySelector('#' + key + ' button');\n",
              "      quickchartButtonEl.disabled = true;  // To prevent multiple clicks.\n",
              "      quickchartButtonEl.classList.add('colab-df-spinner');\n",
              "      try {\n",
              "        const charts = await google.colab.kernel.invokeFunction(\n",
              "            'suggestCharts', [key], {});\n",
              "      } catch (error) {\n",
              "        console.error('Error during call to suggestCharts:', error);\n",
              "      }\n",
              "      quickchartButtonEl.classList.remove('colab-df-spinner');\n",
              "      quickchartButtonEl.classList.add('colab-df-quickchart-complete');\n",
              "    }\n",
              "    (() => {\n",
              "      let quickchartButtonEl =\n",
              "        document.querySelector('#df-57b5394d-7f73-4c3a-b0cc-9d222b20a36d button');\n",
              "      quickchartButtonEl.style.display =\n",
              "        google.colab.kernel.accessAllowed ? 'block' : 'none';\n",
              "    })();\n",
              "  </script>\n",
              "</div>\n",
              "    </div>\n",
              "  </div>\n"
            ]
          },
          "metadata": {},
          "execution_count": 13
        }
      ]
    },
    {
      "cell_type": "code",
      "source": [
        "c1=0\n",
        "for index, row in title_episode.iterrows():\n",
        "     c1+=1\n",
        "     c.execute(\"INSERT INTO title_episode (tconst, parentTconst, seasonNumber, episodeNumber) values(?,?,?,?)\", (row.tconst, row.parentTconst, row.seasonNumber, row.episodeNumber))\n",
        "     if c1 % 100000 == 0:\n",
        "      print(c1)\n",
        "print(c1, \"done\")"
      ],
      "metadata": {
        "colab": {
          "base_uri": "https://localhost:8080/"
        },
        "id": "PVgH_kOgv1dv",
        "outputId": "1347678d-78c1-4d5d-d691-b93e71516dcf"
      },
      "execution_count": 14,
      "outputs": [
        {
          "output_type": "stream",
          "name": "stdout",
          "text": [
            "7822525 done\n"
          ]
        }
      ]
    },
    {
      "cell_type": "code",
      "source": [
        "title_principals = pd.read_table(\"/content/drive/MyDrive/Unleash/title.principals.tsv/data.tsv\")"
      ],
      "metadata": {
        "id": "Zon8YeG6wFek"
      },
      "execution_count": 15,
      "outputs": []
    },
    {
      "cell_type": "code",
      "source": [
        "c1=0\n",
        "for index, row in title_principals.iterrows():\n",
        "     c1+=1\n",
        "     c.execute(\"INSERT INTO title_principals (tconst, ordering, nconst, category, job, characters) values(?,?,?,?,?,?)\", (row.tconst, row.ordering, row.nconst, row.category, row.job, row.characters))\n",
        "     if c1 % 100000 == 0:\n",
        "      print(c1)\n",
        "print(c1, \"done\")"
      ],
      "metadata": {
        "colab": {
          "base_uri": "https://localhost:8080/"
        },
        "id": "uDxRLUPvwIp9",
        "outputId": "6f0eae45-5f11-426f-f7b9-4fe8c345f861"
      },
      "execution_count": 16,
      "outputs": [
        {
          "output_type": "stream",
          "name": "stdout",
          "text": [
            "58748065 done\n"
          ]
        }
      ]
    },
    {
      "cell_type": "code",
      "source": [
        "title_ratings = pd.read_table(\"/content/drive/MyDrive/Unleash/title.ratings.tsv/data.tsv\")"
      ],
      "metadata": {
        "id": "CGn1QzmUwgJ_"
      },
      "execution_count": 17,
      "outputs": []
    },
    {
      "cell_type": "code",
      "source": [
        "c1=0\n",
        "for index, row in title_ratings.iterrows():\n",
        "     c1+=1\n",
        "     c.execute(\"INSERT INTO title_ratings (tconst, averageRating, numVotes) values(?,?,?)\", (row.tconst, row.averageRating, row.numVotes))\n",
        "     if c1 % 100000 == 0:\n",
        "      print(c1)\n",
        "print(c1, \"done\")"
      ],
      "metadata": {
        "colab": {
          "base_uri": "https://localhost:8080/"
        },
        "id": "BbRV3VFcwg4L",
        "outputId": "21eba463-8d2a-41f8-a3d8-de9a4f16a452"
      },
      "execution_count": 18,
      "outputs": [
        {
          "output_type": "stream",
          "name": "stdout",
          "text": [
            "1361919 done\n"
          ]
        }
      ]
    },
    {
      "cell_type": "code",
      "execution_count": 1,
      "metadata": {
        "colab": {
          "base_uri": "https://localhost:8080/"
        },
        "id": "2RxDUplcxRG9",
        "outputId": "21f7f698-1b7e-40d1-a02c-77fbb2d3ca14"
      },
      "outputs": [
        {
          "output_type": "stream",
          "name": "stdout",
          "text": [
            "Requirement already satisfied: torch in /usr/local/lib/python3.10/dist-packages (2.1.0+cu118)\n",
            "Requirement already satisfied: transformers in /usr/local/lib/python3.10/dist-packages (4.34.1)\n",
            "Requirement already satisfied: bitsandbytes in /usr/local/lib/python3.10/dist-packages (0.41.1)\n",
            "Requirement already satisfied: accelerate in /usr/local/lib/python3.10/dist-packages (0.24.0)\n",
            "Requirement already satisfied: filelock in /usr/local/lib/python3.10/dist-packages (from torch) (3.12.4)\n",
            "Requirement already satisfied: typing-extensions in /usr/local/lib/python3.10/dist-packages (from torch) (4.5.0)\n",
            "Requirement already satisfied: sympy in /usr/local/lib/python3.10/dist-packages (from torch) (1.12)\n",
            "Requirement already satisfied: networkx in /usr/local/lib/python3.10/dist-packages (from torch) (3.2)\n",
            "Requirement already satisfied: jinja2 in /usr/local/lib/python3.10/dist-packages (from torch) (3.1.2)\n",
            "Requirement already satisfied: fsspec in /usr/local/lib/python3.10/dist-packages (from torch) (2023.6.0)\n",
            "Requirement already satisfied: triton==2.1.0 in /usr/local/lib/python3.10/dist-packages (from torch) (2.1.0)\n",
            "Requirement already satisfied: huggingface-hub<1.0,>=0.16.4 in /usr/local/lib/python3.10/dist-packages (from transformers) (0.17.3)\n",
            "Requirement already satisfied: numpy>=1.17 in /usr/local/lib/python3.10/dist-packages (from transformers) (1.23.5)\n",
            "Requirement already satisfied: packaging>=20.0 in /usr/local/lib/python3.10/dist-packages (from transformers) (23.2)\n",
            "Requirement already satisfied: pyyaml>=5.1 in /usr/local/lib/python3.10/dist-packages (from transformers) (6.0.1)\n",
            "Requirement already satisfied: regex!=2019.12.17 in /usr/local/lib/python3.10/dist-packages (from transformers) (2023.6.3)\n",
            "Requirement already satisfied: requests in /usr/local/lib/python3.10/dist-packages (from transformers) (2.31.0)\n",
            "Requirement already satisfied: tokenizers<0.15,>=0.14 in /usr/local/lib/python3.10/dist-packages (from transformers) (0.14.1)\n",
            "Requirement already satisfied: safetensors>=0.3.1 in /usr/local/lib/python3.10/dist-packages (from transformers) (0.4.0)\n",
            "Requirement already satisfied: tqdm>=4.27 in /usr/local/lib/python3.10/dist-packages (from transformers) (4.66.1)\n",
            "Requirement already satisfied: psutil in /usr/local/lib/python3.10/dist-packages (from accelerate) (5.9.5)\n",
            "Requirement already satisfied: MarkupSafe>=2.0 in /usr/local/lib/python3.10/dist-packages (from jinja2->torch) (2.1.3)\n",
            "Requirement already satisfied: charset-normalizer<4,>=2 in /usr/local/lib/python3.10/dist-packages (from requests->transformers) (3.3.1)\n",
            "Requirement already satisfied: idna<4,>=2.5 in /usr/local/lib/python3.10/dist-packages (from requests->transformers) (3.4)\n",
            "Requirement already satisfied: urllib3<3,>=1.21.1 in /usr/local/lib/python3.10/dist-packages (from requests->transformers) (2.0.7)\n",
            "Requirement already satisfied: certifi>=2017.4.17 in /usr/local/lib/python3.10/dist-packages (from requests->transformers) (2023.7.22)\n",
            "Requirement already satisfied: mpmath>=0.19 in /usr/local/lib/python3.10/dist-packages (from sympy->torch) (1.3.0)\n"
          ]
        }
      ],
      "source": [
        "!pip install torch transformers bitsandbytes accelerate\n"
      ]
    },
    {
      "cell_type": "code",
      "source": [
        "import torch\n",
        "from transformers import AutoTokenizer, AutoModelForCausalLM, pipeline"
      ],
      "metadata": {
        "id": "GxgFePDRyIPq"
      },
      "execution_count": 1,
      "outputs": []
    },
    {
      "cell_type": "code",
      "source": [
        "torch.cuda.is_available()\n"
      ],
      "metadata": {
        "colab": {
          "base_uri": "https://localhost:8080/"
        },
        "id": "OpgiJHdnyJOT",
        "outputId": "a372e2da-838c-4ab6-e99a-9366afc2a4fa"
      },
      "execution_count": 2,
      "outputs": [
        {
          "output_type": "execute_result",
          "data": {
            "text/plain": [
              "True"
            ]
          },
          "metadata": {},
          "execution_count": 2
        }
      ]
    },
    {
      "cell_type": "code",
      "source": [
        "model_name = \"defog/sqlcoder\"\n",
        "tokenizer = AutoTokenizer.from_pretrained(model_name)\n",
        "model = AutoModelForCausalLM.from_pretrained(\n",
        "    model_name,\n",
        "    trust_remote_code=True,\n",
        "    torch_dtype=torch.bfloat16,\n",
        "    # load_in_8bit=True,\n",
        "    # load_in_4bit=True,\n",
        "    device_map=\"auto\",\n",
        "    use_cache=True,\n",
        ")"
      ],
      "metadata": {
        "colab": {
          "base_uri": "https://localhost:8080/",
          "height": 49,
          "referenced_widgets": [
            "5cff0e1b26564af0835f6fad828bffd3",
            "a50a85ed4fc84e4a9deff28aa58c73e2",
            "8efc9938ad0d4102b71cb800db52de1c",
            "916b80c2596540488b3fe2e4a6e9283b",
            "565316f5c3ca49ab97215efe7a8a9d1a",
            "263497f60a534703af01d60eab266105",
            "9e6ba691258f4e43932fb983621f6fac",
            "1079912b8d7a4743a49691c4977fc112",
            "d9426dac1c48492aa1f258601eda6132",
            "465fe7148c2f4e6c89a281b84ef3cc26",
            "51562b1a32f6423b9cef115adece7234"
          ]
        },
        "id": "eWQYbQDLqM8B",
        "outputId": "6420d453-cc0f-49f5-9640-18fc1f31ac73"
      },
      "execution_count": 3,
      "outputs": [
        {
          "output_type": "display_data",
          "data": {
            "text/plain": [
              "Loading checkpoint shards:   0%|          | 0/4 [00:00<?, ?it/s]"
            ],
            "application/vnd.jupyter.widget-view+json": {
              "version_major": 2,
              "version_minor": 0,
              "model_id": "5cff0e1b26564af0835f6fad828bffd3"
            }
          },
          "metadata": {}
        }
      ]
    },
    {
      "cell_type": "code",
      "source": [
        "def english_to_sql(question):\n",
        "  # the model might have learned that last year was 2016 from his training data\n",
        "\n",
        "  prompt = \"\"\"### Instructions:\n",
        "Your task is convert a question into a SQL query, given a Postgres database schema.\n",
        "Adhere to these rules:\n",
        "- **Deliberately go through the question and database schema word by word** to appropriately answer the question\n",
        "- **Use Table Aliases** to prevent ambiguity. For example, `SELECT table1.col1, table2.col1 FROM table1 JOIN table2 ON table1.id = table2.id`.\n",
        "- When creating a ratio, always cast the numerator as float\n",
        "\n",
        "### Input:\n",
        "Generate a SQL query that answers the questioq `{question}`.\n",
        "This query will run on a database whose schema is represented in this string:\n",
        "\n",
        "CREATE TABLE title_ratings(\n",
        "  tconst varchar(256), -- Unique ID of a title\n",
        "  averageRating float, -– verage user ratings\n",
        "  numVotes int, -- number of votes\n",
        "  primary key (tconst)\n",
        ");\n",
        "\n",
        "CREATE TABLE title_principals(\n",
        "  tconst varchar(256), -- Unique ID of a title\n",
        "  ordering int, -- a number to uniquely identify rows for a given titleId\n",
        "  nconst varchar(256), --- Unique ID of each peson\n",
        "  category varchar(256), -- The category of job that person was in\n",
        "  job varchar(256), -- The specific job title if applicable, else '\\\\N'\n",
        "  characters varchar(256), -- The name of the character played if applicable, else '\\\\N'\n",
        "  primary key (tconst, oredring, nconst)\n",
        ");\n",
        "\n",
        "CREATE TABLE title_episode(\n",
        "  tconst varchar(256), -- identifier of episode\n",
        "  parentTconst varchar(256), -- Unique ID of parent TV Series\n",
        "  seasonNumber int, -– season number\n",
        "  episodeNumber int, -– episode number\n",
        "  primary key (tconst)\n",
        ");\n",
        "\n",
        "CREATE TABLE title_crew(\n",
        "  tconst varchr(256), -- Unique ID of a title\n",
        "  directors varchar(1000), -- director(s) of the given title, seperated by ','\n",
        "  writers varchar(1000), -– writer(s) of the given title, seperated by ','\n",
        "  primary key (tconst)\n",
        ");\n",
        "\n",
        "CREATE TABLE title_basics(\n",
        "  tconst varchar(256), -- Unique ID of a title\n",
        "  titleType varchar(256), -– the type/format of the title (e.g. movie, short, tvseries, tvepisode, video, etc)\n",
        "  primaryTitle varchar(256), -– the more popular title / the title used by the filmmakers on promotional materials at the point of release\n",
        "  originalTitle varchar(256), -- original title, in the original language\n",
        "  isAdult - BIT, -- 0: non-adult title; 1: adult title\n",
        "  startYear int, -– represents the release year of a title.\n",
        "  endYear int, -– TV Series end year. ‘\\\\N’ for all other title types\n",
        "  runtimeMinutes  int, -– primary runtime of the title, in minutes\n",
        "  genres varchar(1000), -- includes up to three genres associated with the title, seperated by ','\n",
        "  primary key (tconst)\n",
        ");\n",
        "\n",
        "CREATE TABLE title_akas(\n",
        "  titleID VARCHAR(256) not null, -- Unique ID of a title\n",
        "  ordering int, -– a number to uniquely identify rows for a given titleId\n",
        "  title VARCHAR(256), -– the localized title\n",
        "  region VARCHAR(256), -- the region for this version of the title\n",
        "  language VARCHAR(256), -- the language of the title\n",
        "  types varchar(256), -- Enumerated set of attributes for this alternative title. One or more of the following: \"alternative\", \"dvd\", \"festival\", \"tv\", \"video\", \"working\", \"original\", \"imdbDisplay\".\n",
        "  attributes varchar(256), -- Additional terms to describe this alternative title, not enumerated\n",
        "  isOriginalTitle BIT, -– 0: not original title; 1: original title\n",
        "  primary key (titleID, ordering)\n",
        ");\n",
        "\n",
        "\n",
        "CREATE TABLE name_basics(\n",
        "  nconst varchar(256) NOT NULL, -- Unique ID of the person\n",
        "  primaryName varchar(256), -- Full name of the person\n",
        "  birthYear int, -- Birth year of the person\n",
        "  deathYear int, -- Death year of the person\n",
        "  primaryProfession varchar(1000), -- List of professions (like actor, director, etc) each item is seperated by ','\n",
        "  knownForTitles varchar(1000), -- List of Titles the person is known for, seperated by ','\n",
        "  PRIMARY KEY (nconst)\n",
        ");\n",
        "\n",
        "-- title_ratings.tconst can be joined with title_principals.tconst\n",
        "-- title_principals.tconst can be joined with  title_episode.tconst\n",
        "-- title_principals.tconst can be joined with title_episode.parentTconst\n",
        "-- title_principals.nconst can be joined with  name_basics.nconst\n",
        "-- title_crew.tconst can be joined with title_principals.tconst\n",
        "-- title_basics.tconst can be joined with title_principals.tconst\n",
        "-- title_akas.titleID can be joined with title_principals.tconst\n",
        "\n",
        "### Response:\n",
        "Based on your instructions, here is the SQL query I have generated to answer the question `{question}`:\n",
        "```sql\n",
        "\"\"\".format(question=question)\n",
        "\n",
        "\n",
        "  eos_token_id = tokenizer.convert_tokens_to_ids([\"```\"])[0]\n",
        "\n",
        "\n",
        "  inputs = tokenizer(prompt, return_tensors=\"pt\").to(\"cuda\")\n",
        "  generated_ids = model.generate(\n",
        "      **inputs,\n",
        "      num_return_sequences=1,\n",
        "      eos_token_id=eos_token_id,\n",
        "      pad_token_id=eos_token_id,\n",
        "      max_new_tokens=400,\n",
        "      do_sample=False,\n",
        "      num_beams=5\n",
        "  )\n",
        "\n",
        "  outputs = tokenizer.batch_decode(generated_ids, skip_special_tokens=True)\n",
        "\n",
        "  print(\"SQL Generated code:\")\n",
        "  print(outputs[0].split(\"```sql\")[-1].split(\"```\")[0].split(\";\")[0].strip() + \";\")\n",
        "  return outputs[0].split(\"```sql\")[-1].split(\"```\")[0].split(\";\")[0].strip() + \";\"\n",
        "  torch.cuda.empty_cache()\n"
      ],
      "metadata": {
        "id": "e6prQY2TYJJT"
      },
      "execution_count": 27,
      "outputs": []
    },
    {
      "cell_type": "code",
      "source": [],
      "metadata": {
        "id": "hU69XTVogLJI"
      },
      "execution_count": null,
      "outputs": []
    },
    {
      "cell_type": "code",
      "source": [
        "question = 'How many movies were released in 2022?'\n",
        "q1 = english_to_sql(question)"
      ],
      "metadata": {
        "colab": {
          "base_uri": "https://localhost:8080/"
        },
        "id": "v0CbUmftX7Zw",
        "outputId": "ff749a29-bda1-449b-d6bc-a79cda614666"
      },
      "execution_count": 34,
      "outputs": [
        {
          "output_type": "stream",
          "name": "stdout",
          "text": [
            "SQL Generated code:\n",
            "SELECT count(*)\n",
            "FROM   title_basics\n",
            "WHERE  title_basics.titleType ='movie'\n",
            "   AND title_basics.startYear = 2022;\n"
          ]
        }
      ]
    },
    {
      "cell_type": "code",
      "source": [
        "q1 = \"\"\"SELECT count(*)\n",
        "FROM   title_basics\n",
        "WHERE  title_basics.titleType ='movie'\n",
        "   AND title_basics.startYear = 2022;\"\"\""
      ],
      "metadata": {
        "id": "6Vl9fd7Todr7"
      },
      "execution_count": 19,
      "outputs": []
    },
    {
      "cell_type": "code",
      "source": [],
      "metadata": {
        "id": "1Ma9-xoooy4Z"
      },
      "execution_count": null,
      "outputs": []
    },
    {
      "cell_type": "code",
      "source": [
        "question = 'How many actors were born in x2001?'\n",
        "q2 = english_to_sql(question)"
      ],
      "metadata": {
        "colab": {
          "base_uri": "https://localhost:8080/"
        },
        "id": "yPQ-d00YZo4X",
        "outputId": "80a7e05c-45f4-4330-b7e2-89a509691ab1"
      },
      "execution_count": 30,
      "outputs": [
        {
          "output_type": "stream",
          "name": "stdout",
          "text": [
            "SQL Generated code:\n",
            "SELECT count(*)\n",
            "FROM   name_basics\n",
            "WHERE  birthyear = 2001\n",
            "   AND primaryprofession = 'actor';\n"
          ]
        }
      ]
    },
    {
      "cell_type": "code",
      "source": [
        "question = 'What is the language of the movie \"Pulp Fiction\"?'\n",
        "q3 = english_to_sql(question)"
      ],
      "metadata": {
        "colab": {
          "base_uri": "https://localhost:8080/"
        },
        "id": "3uI6XvmSZ00y",
        "outputId": "de22ad20-59eb-4528-db8d-54d4deb27af7"
      },
      "execution_count": 31,
      "outputs": [
        {
          "output_type": "stream",
          "name": "stdout",
          "text": [
            "SQL Generated code:\n",
            "SELECT title_akas.language\n",
            "FROM   title_akas,\n",
            "      title_basics\n",
            "WHERE  title_akas.title = 'Pulp Fiction'\n",
            "   AND title_akas.titleID = title_basics.tconst;\n"
          ]
        }
      ]
    },
    {
      "cell_type": "code",
      "source": [
        "question = 'What is the series with the most episodes?'\n",
        "q4 = english_to_sql(question)"
      ],
      "metadata": {
        "colab": {
          "base_uri": "https://localhost:8080/"
        },
        "id": "L77XpMDHaRzZ",
        "outputId": "488c1fa1-6255-40f1-fd25-9d782ebb5c22"
      },
      "execution_count": 32,
      "outputs": [
        {
          "output_type": "stream",
          "name": "stdout",
          "text": [
            "SQL Generated code:\n",
            "SELECT title_basics.title,\n",
            "       count(title_episode.episodeNumber) AS episode_count\n",
            "FROM   title_episode join title_basics on title_episode.tconst = title_basics.tconst\n",
            "GROUP BY title_basics.title\n",
            "ORDER BY episode_count DESC\n",
            "LIMIT 1;\n"
          ]
        }
      ]
    },
    {
      "cell_type": "code",
      "source": [
        "question = 'In how many horror movies did \"Sean Connery\" perform?'\n",
        "q5 = english_to_sql(question)"
      ],
      "metadata": {
        "colab": {
          "base_uri": "https://localhost:8080/"
        },
        "id": "2NJ_4Ea5aXrp",
        "outputId": "dc7b8356-235b-4550-c78e-4a77c03e507f"
      },
      "execution_count": 33,
      "outputs": [
        {
          "output_type": "stream",
          "name": "stdout",
          "text": [
            "SQL Generated code:\n",
            "SELECT count(*)\n",
            "FROM   title_principals join title_basics on title_principals.tconst = title_basics.tconst\n",
            "WHERE  name_basics.primaryName = '<NAME>'\n",
            "   and title_basics.titleType ='movie';\n"
          ]
        }
      ]
    },
    {
      "cell_type": "code",
      "source": [
        "c.execute(q1)\n",
        "record = c.fetchone()\n",
        "print(record[0])"
      ],
      "metadata": {
        "colab": {
          "base_uri": "https://localhost:8080/"
        },
        "id": "fstP9pjxbuTq",
        "outputId": "93648758-3bd8-4fb0-d00a-a1e7f203d3b9"
      },
      "execution_count": 26,
      "outputs": [
        {
          "output_type": "stream",
          "name": "stdout",
          "text": [
            "19730\n"
          ]
        }
      ]
    },
    {
      "cell_type": "code",
      "source": [
        "q2.replace(\" = 'actor'\", \"like '%actor%'\")"
      ],
      "metadata": {
        "colab": {
          "base_uri": "https://localhost:8080/",
          "height": 53
        },
        "id": "T7dqC0XjjnfN",
        "outputId": "b8ae6ea5-363c-4037-cbc1-be18d34c9bd0"
      },
      "execution_count": 28,
      "outputs": [
        {
          "output_type": "execute_result",
          "data": {
            "text/plain": [
              "\"SELECT count(*)\\nFROM   name_basics\\nWHERE  birthyear = 2001\\n   AND primaryprofessionlike '%actor%';\""
            ],
            "application/vnd.google.colaboratory.intrinsic+json": {
              "type": "string"
            }
          },
          "metadata": {},
          "execution_count": 28
        }
      ]
    },
    {
      "cell_type": "code",
      "source": [
        "c.execute(q2)\n",
        "record = c.fetchone()\n",
        "print(record[0])"
      ],
      "metadata": {
        "colab": {
          "base_uri": "https://localhost:8080/"
        },
        "id": "TEgsFXn5iNIm",
        "outputId": "1ebccc32-c59f-436e-a00f-e23315e69330"
      },
      "execution_count": 29,
      "outputs": [
        {
          "output_type": "stream",
          "name": "stdout",
          "text": [
            "419\n"
          ]
        }
      ]
    },
    {
      "cell_type": "code",
      "source": [
        "c.execute(q3)\n",
        "record = c.fetchone()\n",
        "print(record[0])"
      ],
      "metadata": {
        "colab": {
          "base_uri": "https://localhost:8080/"
        },
        "id": "eHNzXPFsiO4I",
        "outputId": "38c288d7-3c6e-40ce-9f9c-a72372261a2f"
      },
      "execution_count": 31,
      "outputs": [
        {
          "output_type": "stream",
          "name": "stdout",
          "text": [
            "\\N\n"
          ]
        }
      ]
    },
    {
      "cell_type": "code",
      "source": [
        "c.execute(q4)\n",
        "record = c.fetchone()\n",
        "print(record[0])"
      ],
      "metadata": {
        "colab": {
          "base_uri": "https://localhost:8080/",
          "height": 210
        },
        "id": "whU3LuwWiQTe",
        "outputId": "bc8f821f-7a97-4451-ca04-5f770a127f12"
      },
      "execution_count": 41,
      "outputs": [
        {
          "output_type": "error",
          "ename": "OperationalError",
          "evalue": "ignored",
          "traceback": [
            "\u001b[0;31m---------------------------------------------------------------------------\u001b[0m",
            "\u001b[0;31mOperationalError\u001b[0m                          Traceback (most recent call last)",
            "\u001b[0;32m<ipython-input-41-75b0394b43b8>\u001b[0m in \u001b[0;36m<cell line: 1>\u001b[0;34m()\u001b[0m\n\u001b[0;32m----> 1\u001b[0;31m \u001b[0mc\u001b[0m\u001b[0;34m.\u001b[0m\u001b[0mexecute\u001b[0m\u001b[0;34m(\u001b[0m\u001b[0mq4\u001b[0m\u001b[0;34m)\u001b[0m\u001b[0;34m\u001b[0m\u001b[0;34m\u001b[0m\u001b[0m\n\u001b[0m\u001b[1;32m      2\u001b[0m \u001b[0mrecord\u001b[0m \u001b[0;34m=\u001b[0m \u001b[0mc\u001b[0m\u001b[0;34m.\u001b[0m\u001b[0mfetchone\u001b[0m\u001b[0;34m(\u001b[0m\u001b[0;34m)\u001b[0m\u001b[0;34m\u001b[0m\u001b[0;34m\u001b[0m\u001b[0m\n\u001b[1;32m      3\u001b[0m \u001b[0mprint\u001b[0m\u001b[0;34m(\u001b[0m\u001b[0mrecord\u001b[0m\u001b[0;34m[\u001b[0m\u001b[0;36m0\u001b[0m\u001b[0;34m]\u001b[0m\u001b[0;34m)\u001b[0m\u001b[0;34m\u001b[0m\u001b[0;34m\u001b[0m\u001b[0m\n",
            "\u001b[0;31mOperationalError\u001b[0m: no such column: title_basics.title"
          ]
        }
      ]
    },
    {
      "cell_type": "code",
      "source": [
        "q5.replace(\"<NAME>\", \"Sean Connery\")\n",
        "q5 += \" and title_basics.genere like '%horror%'\""
      ],
      "metadata": {
        "id": "wAH8z1a2iVCA"
      },
      "execution_count": 43,
      "outputs": []
    },
    {
      "cell_type": "code",
      "source": [
        "c.execute(q5)"
      ],
      "metadata": {
        "colab": {
          "base_uri": "https://localhost:8080/",
          "height": 175
        },
        "id": "xurOriUJiRxr",
        "outputId": "7817d148-b7af-4fa7-ca7a-23f36a3902ff"
      },
      "execution_count": 44,
      "outputs": [
        {
          "output_type": "error",
          "ename": "OperationalError",
          "evalue": "ignored",
          "traceback": [
            "\u001b[0;31m---------------------------------------------------------------------------\u001b[0m",
            "\u001b[0;31mOperationalError\u001b[0m                          Traceback (most recent call last)",
            "\u001b[0;32m<ipython-input-44-654613a341ad>\u001b[0m in \u001b[0;36m<cell line: 1>\u001b[0;34m()\u001b[0m\n\u001b[0;32m----> 1\u001b[0;31m \u001b[0mc\u001b[0m\u001b[0;34m.\u001b[0m\u001b[0mexecute\u001b[0m\u001b[0;34m(\u001b[0m\u001b[0mq5\u001b[0m\u001b[0;34m)\u001b[0m\u001b[0;34m\u001b[0m\u001b[0;34m\u001b[0m\u001b[0m\n\u001b[0m",
            "\u001b[0;31mOperationalError\u001b[0m: no such column: name_basics.primaryName"
          ]
        }
      ]
    }
  ]
}
